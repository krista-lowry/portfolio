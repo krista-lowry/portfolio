{
 "cells": [
  {
   "cell_type": "markdown",
   "id": "afe44c10",
   "metadata": {},
   "source": [
    "# Problem Statement\n",
    "\n",
    "Our client wants to identify key predictors of whether a user will convert (purchase a product) so they can optimize their marketing campaign strategies and website conversion funnel. \n"
   ]
  },
  {
   "cell_type": "markdown",
   "id": "d55c2440",
   "metadata": {},
   "source": [
    "Load libraries, and then take a look at the data"
   ]
  },
  {
   "cell_type": "code",
   "execution_count": 4,
   "id": "5807af89",
   "metadata": {
    "collapsed": true,
    "scrolled": true,
    "vscode": {
     "languageId": "r"
    }
   },
   "outputs": [],
   "source": [
    "library(dplyr)\n",
    "library(tidyverse)\n",
    "library(DMwR2)\n",
    "library(caret)\n",
    "library(ggplot2)\n",
    "library(GGally)\n",
    "library(rpart.plot)"
   ]
  },
  {
   "cell_type": "markdown",
   "id": "8ac06648",
   "metadata": {},
   "source": [
    "The dataset came from UC Irvine Machine Learning Repository and was obtained from this URL: https://archive.ics.uci.edu/dataset/468/online+shoppers+purchasing+intention+dataset\n",
    "\n",
    "Data contains 12,330 sessions, with 10 numerical and 8 categorical attributes about user behavior, demographics and purchase values.\n",
    "\n",
    "The dataset was formed so that each session would belong to a different user in a 1-year period to avoid any tendency to a specific campaign, special day, user profile, or period."
   ]
  },
  {
   "cell_type": "code",
   "execution_count": 11,
   "id": "d44b7852",
   "metadata": {
    "scrolled": true,
    "vscode": {
     "languageId": "r"
    }
   },
   "outputs": [
    {
     "name": "stdout",
     "output_type": "stream",
     "text": [
      "Rows: 12,330\n",
      "Columns: 18\n",
      "$ Administrative          \u001b[3m\u001b[90m<int>\u001b[39m\u001b[23m 0, 0, 0, 0, 0, 0, 0, 1, 0, 0, 0, 0, 0, 0, 0, 2…\n",
      "$ Administrative_Duration \u001b[3m\u001b[90m<dbl>\u001b[39m\u001b[23m 0, 0, 0, 0, 0, 0, 0, 0, 0, 0, 0, 0, 0, 0, 0, 5…\n",
      "$ Informational           \u001b[3m\u001b[90m<int>\u001b[39m\u001b[23m 0, 0, 0, 0, 0, 0, 0, 0, 0, 0, 0, 0, 0, 0, 0, 0…\n",
      "$ Informational_Duration  \u001b[3m\u001b[90m<dbl>\u001b[39m\u001b[23m 0, 0, 0, 0, 0, 0, 0, 0, 0, 0, 0, 0, 0, 0, 0, 0…\n",
      "$ ProductRelated          \u001b[3m\u001b[90m<int>\u001b[39m\u001b[23m 1, 2, 1, 2, 10, 19, 1, 0, 2, 3, 3, 16, 7, 6, 2…\n",
      "$ ProductRelated_Duration \u001b[3m\u001b[90m<dbl>\u001b[39m\u001b[23m 0.000000, 64.000000, 0.000000, 2.666667, 627.5…\n",
      "$ BounceRates             \u001b[3m\u001b[90m<dbl>\u001b[39m\u001b[23m 0.200000000, 0.000000000, 0.200000000, 0.05000…\n",
      "$ ExitRates               \u001b[3m\u001b[90m<dbl>\u001b[39m\u001b[23m 0.200000000, 0.100000000, 0.200000000, 0.14000…\n",
      "$ PageValues              \u001b[3m\u001b[90m<dbl>\u001b[39m\u001b[23m 0, 0, 0, 0, 0, 0, 0, 0, 0, 0, 0, 0, 0, 0, 0, 0…\n",
      "$ SpecialDay              \u001b[3m\u001b[90m<dbl>\u001b[39m\u001b[23m 0.0, 0.0, 0.0, 0.0, 0.0, 0.0, 0.4, 0.0, 0.8, 0…\n",
      "$ Month                   \u001b[3m\u001b[90m<chr>\u001b[39m\u001b[23m \"Feb\", \"Feb\", \"Feb\", \"Feb\", \"Feb\", \"Feb\", \"Feb…\n",
      "$ OperatingSystems        \u001b[3m\u001b[90m<int>\u001b[39m\u001b[23m 1, 2, 4, 3, 3, 2, 2, 1, 2, 2, 1, 1, 1, 2, 3, 1…\n",
      "$ Browser                 \u001b[3m\u001b[90m<int>\u001b[39m\u001b[23m 1, 2, 1, 2, 3, 2, 4, 2, 2, 4, 1, 1, 1, 5, 2, 1…\n",
      "$ Region                  \u001b[3m\u001b[90m<int>\u001b[39m\u001b[23m 1, 1, 9, 2, 1, 1, 3, 1, 2, 1, 3, 4, 1, 1, 3, 9…\n",
      "$ TrafficType             \u001b[3m\u001b[90m<int>\u001b[39m\u001b[23m 1, 2, 3, 4, 4, 3, 3, 5, 3, 2, 3, 3, 3, 3, 3, 3…\n",
      "$ VisitorType             \u001b[3m\u001b[90m<chr>\u001b[39m\u001b[23m \"Returning_Visitor\", \"Returning_Visitor\", \"Ret…\n",
      "$ Weekend                 \u001b[3m\u001b[90m<lgl>\u001b[39m\u001b[23m FALSE, FALSE, FALSE, FALSE, TRUE, FALSE, FALSE…\n",
      "$ Revenue                 \u001b[3m\u001b[90m<lgl>\u001b[39m\u001b[23m FALSE, FALSE, FALSE, FALSE, FALSE, FALSE, FALS…\n"
     ]
    }
   ],
   "source": [
    "data = read.csv(\"online_shoppers_intention.csv\")\n",
    "df <- data %>% glimpse()"
   ]
  },
  {
   "cell_type": "markdown",
   "id": "8b8a9e4a",
   "metadata": {},
   "source": [
    "We need to perform standard data cleaning such as:\n",
    "1. Change categories to factors.\n",
    "2. Remove BounceRate, ExitRates and PageValues because those would be highly correlated to conversion rates\n",
    "3. Remove Special Day and instead turn it into a factor, to avoid nearZeroVar\n",
    "\n",
    "We'll also create some caclulations (features):\n",
    "- Total Duration = Total duration across all page types\n",
    "- Total Pages = Total pages across all page types"
   ]
  },
  {
   "cell_type": "code",
   "execution_count": 12,
   "id": "e4b39542",
   "metadata": {
    "kernel": "R",
    "scrolled": false,
    "tags": [
     "report_cell"
    ],
    "vscode": {
     "languageId": "r"
    }
   },
   "outputs": [
    {
     "name": "stdout",
     "output_type": "stream",
     "text": [
      "Rows: 12,245\n",
      "Columns: 19\n",
      "$ Administrative          \u001b[3m\u001b[90m<int>\u001b[39m\u001b[23m 0, 0, 0, 0, 0, 0, 0, 1, 0, 0, 0, 0, 0, 0, 0, 2…\n",
      "$ Administrative_Duration \u001b[3m\u001b[90m<dbl>\u001b[39m\u001b[23m 0, 0, 0, 0, 0, 0, 0, 0, 0, 0, 0, 0, 0, 0, 0, 5…\n",
      "$ Informational           \u001b[3m\u001b[90m<int>\u001b[39m\u001b[23m 0, 0, 0, 0, 0, 0, 0, 0, 0, 0, 0, 0, 0, 0, 0, 0…\n",
      "$ Informational_Duration  \u001b[3m\u001b[90m<dbl>\u001b[39m\u001b[23m 0, 0, 0, 0, 0, 0, 0, 0, 0, 0, 0, 0, 0, 0, 0, 0…\n",
      "$ ProductRelated          \u001b[3m\u001b[90m<int>\u001b[39m\u001b[23m 1, 2, 1, 2, 10, 19, 1, 0, 2, 3, 3, 16, 7, 6, 2…\n",
      "$ ProductRelated_Duration \u001b[3m\u001b[90m<dbl>\u001b[39m\u001b[23m 0.000000, 64.000000, 0.000000, 2.666667, 627.5…\n",
      "$ Month                   \u001b[3m\u001b[90m<fct>\u001b[39m\u001b[23m 2, 2, 2, 2, 2, 2, 2, 2, 2, 2, 2, 2, 2, 2, 2, 2…\n",
      "$ OperatingSystems        \u001b[3m\u001b[90m<fct>\u001b[39m\u001b[23m 1, 2, 4, 3, 3, 2, 2, 1, 2, 2, 1, 1, 1, 2, 3, 1…\n",
      "$ Browser                 \u001b[3m\u001b[90m<fct>\u001b[39m\u001b[23m 1, 2, 1, 2, 3, 2, 4, 2, 2, 4, 1, 1, 1, 5, 2, 1…\n",
      "$ Region                  \u001b[3m\u001b[90m<fct>\u001b[39m\u001b[23m 1, 1, 9, 2, 1, 1, 3, 1, 2, 1, 3, 4, 1, 1, 3, 9…\n",
      "$ VisitorType             \u001b[3m\u001b[90m<fct>\u001b[39m\u001b[23m Returning_Visitor, Returning_Visitor, Returnin…\n",
      "$ Weekend                 \u001b[3m\u001b[90m<fct>\u001b[39m\u001b[23m 0, 0, 0, 0, 1, 0, 0, 1, 0, 0, 0, 0, 0, 0, 0, 0…\n",
      "$ Revenue                 \u001b[3m\u001b[90m<fct>\u001b[39m\u001b[23m FALSE, FALSE, FALSE, FALSE, FALSE, FALSE, FALS…\n",
      "$ TotalDuration           \u001b[3m\u001b[90m<dbl>\u001b[39m\u001b[23m 0.000000, 64.000000, 0.000000, 2.666667, 627.5…\n",
      "$ TotalPages              \u001b[3m\u001b[90m<int>\u001b[39m\u001b[23m 1, 2, 1, 2, 10, 19, 1, 1, 2, 3, 3, 16, 7, 6, 2…\n",
      "$ ProductRelated_binary   \u001b[3m\u001b[90m<dbl>\u001b[39m\u001b[23m 0, 1, 0, 1, 1, 1, 0, 0, 1, 1, 1, 1, 1, 1, 1, 1…\n",
      "$ Administrative_binary   \u001b[3m\u001b[90m<dbl>\u001b[39m\u001b[23m 0, 0, 0, 0, 0, 0, 0, 0, 0, 0, 0, 0, 0, 0, 0, 1…\n",
      "$ Informational_binary    \u001b[3m\u001b[90m<dbl>\u001b[39m\u001b[23m 0, 0, 0, 0, 0, 0, 0, 0, 0, 0, 0, 0, 0, 0, 0, 0…\n",
      "$ special_day_binary      \u001b[3m\u001b[90m<fct>\u001b[39m\u001b[23m 1, 1, 1, 1, 1, 1, 0, 1, 0, 0, 1, 0, 1, 1, 1, 1…\n"
     ]
    }
   ],
   "source": [
    "df <- data %>% mutate(Revenue = as.factor(Revenue),\n",
    "                      OperatingSystems = as.factor(OperatingSystems),\n",
    "                      Browser = as.factor(Browser),\n",
    "                      Region = as.factor(Region),\n",
    "                      VisitorType = as.factor(VisitorType),\n",
    "                      TrafficType = as.factor(TrafficType),\n",
    "                      Weekend = as.factor(ifelse(Weekend == TRUE, 1, 0)),\n",
    "                      Month = as.factor(recode(Month, Feb = 2,Mar = 3,May = 5,June = 6,Jul = 7,\n",
    "                                               Aug = 8,  Sep = 9,Oct = 10,Nov = 11,Dec = 12)),\n",
    "                      #totals\n",
    "                      TotalDuration = Informational_Duration\n",
    "                                      + ProductRelated_Duration + Administrative_Duration,\n",
    "                      TotalPages =  Informational + ProductRelated + Administrative,\n",
    "\n",
    "                      #binaries\n",
    "                      Revenue_binary =  ifelse(Revenue == TRUE, 1, 0),\n",
    "                      VisitorType_Returning_binary = ifelse(VisitorType == \"Returning_Visitor\", 1, 0),\n",
    "                      Weekend_binary = ifelse(Weekend == 1, 1, 0),\n",
    "                      ProductRelated_binary = ifelse(ProductRelated_Duration > 0, 1, 0),\n",
    "                      Administrative_binary = ifelse(Administrative_Duration > 0, 1, 0),\n",
    "                      Informational_binary = ifelse(Informational_Duration > 0, 1, 0))\n",
    "\n",
    "df <-  df %>% mutate(special_day_binary = (\n",
    "                        case_when(SpecialDay == 0 ~ 1, .default = 0)))\n",
    "\n",
    "df_fact <- df %>% select(-Revenue_binary, -Weekend_binary, -TrafficType, -PageValues, -BounceRates, -ExitRates, -SpecialDay,-VisitorType_Returning_binary) %>% mutate(special_day_binary = as.factor(special_day_binary))\n",
    "df_fact <- df_fact %>% filter(VisitorType != \"Other\")\n",
    "\n",
    "df_fact %>% glimpse()"
   ]
  },
  {
   "cell_type": "markdown",
   "id": "213b62cf",
   "metadata": {},
   "source": [
    "Running some quick sums, we can clearly see commonalities among converting sessions:\n",
    "- Spent longer on the site \n",
    "- Visit more pages per user\n",
    "- Visited on special days \n",
    "- Were returning users "
   ]
  },
  {
   "cell_type": "code",
   "execution_count": 13,
   "id": "a9fe9ece",
   "metadata": {
    "kernel": "R",
    "scrolled": true,
    "tags": [
     "report_cell"
    ],
    "vscode": {
     "languageId": "r"
    }
   },
   "outputs": [
    {
     "data": {
      "text/html": [
       "<table class=\"dataframe\">\n",
       "<caption>A tibble: 2 × 9</caption>\n",
       "<thead>\n",
       "\t<tr><th scope=col>Revenue</th><th scope=col>total_count</th><th scope=col>avg_duration</th><th scope=col>page_per_user</th><th scope=col>perc_weekend</th><th scope=col>returning</th><th scope=col>new</th><th scope=col>perc_returning</th><th scope=col>perc_on_special_day</th></tr>\n",
       "\t<tr><th scope=col>&lt;fct&gt;</th><th scope=col>&lt;int&gt;</th><th scope=col>&lt;dbl&gt;</th><th scope=col>&lt;dbl&gt;</th><th scope=col>&lt;dbl&gt;</th><th scope=col>&lt;dbl&gt;</th><th scope=col>&lt;dbl&gt;</th><th scope=col>&lt;dbl&gt;</th><th scope=col>&lt;dbl&gt;</th></tr>\n",
       "</thead>\n",
       "<tbody>\n",
       "\t<tr><td>FALSE</td><td>10422</td><td>1173.96</td><td>31.28421</td><td>0.23</td><td>9081</td><td>1272</td><td>0.88</td><td>0.89</td></tr>\n",
       "\t<tr><td>TRUE </td><td> 1908</td><td>2053.30</td><td>52.38994</td><td>0.26</td><td>1470</td><td> 422</td><td>0.78</td><td>0.96</td></tr>\n",
       "</tbody>\n",
       "</table>\n"
      ],
      "text/latex": [
       "A tibble: 2 × 9\n",
       "\\begin{tabular}{lllllllll}\n",
       " Revenue & total\\_count & avg\\_duration & page\\_per\\_user & perc\\_weekend & returning & new & perc\\_returning & perc\\_on\\_special\\_day\\\\\n",
       " <fct> & <int> & <dbl> & <dbl> & <dbl> & <dbl> & <dbl> & <dbl> & <dbl>\\\\\n",
       "\\hline\n",
       "\t FALSE & 10422 & 1173.96 & 31.28421 & 0.23 & 9081 & 1272 & 0.88 & 0.89\\\\\n",
       "\t TRUE  &  1908 & 2053.30 & 52.38994 & 0.26 & 1470 &  422 & 0.78 & 0.96\\\\\n",
       "\\end{tabular}\n"
      ],
      "text/markdown": [
       "\n",
       "A tibble: 2 × 9\n",
       "\n",
       "| Revenue &lt;fct&gt; | total_count &lt;int&gt; | avg_duration &lt;dbl&gt; | page_per_user &lt;dbl&gt; | perc_weekend &lt;dbl&gt; | returning &lt;dbl&gt; | new &lt;dbl&gt; | perc_returning &lt;dbl&gt; | perc_on_special_day &lt;dbl&gt; |\n",
       "|---|---|---|---|---|---|---|---|---|\n",
       "| FALSE | 10422 | 1173.96 | 31.28421 | 0.23 | 9081 | 1272 | 0.88 | 0.89 |\n",
       "| TRUE  |  1908 | 2053.30 | 52.38994 | 0.26 | 1470 |  422 | 0.78 | 0.96 |\n",
       "\n"
      ],
      "text/plain": [
       "  Revenue total_count avg_duration page_per_user perc_weekend returning new \n",
       "1 FALSE   10422       1173.96      31.28421      0.23         9081      1272\n",
       "2 TRUE     1908       2053.30      52.38994      0.26         1470       422\n",
       "  perc_returning perc_on_special_day\n",
       "1 0.88           0.89               \n",
       "2 0.78           0.96               "
      ]
     },
     "metadata": {},
     "output_type": "display_data"
    }
   ],
   "source": [
    "df_sum <- df %>% group_by(Revenue)  %>%\n",
    "              summarize(total_count = n(),\n",
    "              avg_duration = round(mean(TotalDuration),digits=2),\n",
    "              sum_pages = round(sum(TotalPages),digits=2),\n",
    "              page_per_user = sum_pages / total_count,\n",
    "              weekend_true = sum(Weekend_binary),\n",
    "              perc_weekend = round((weekend_true / total_count),digits = 2 ),\n",
    "              returning = sum(case_when(VisitorType == \"Returning_Visitor\" ~ 1, .default = 0)),\n",
    "              new = sum(case_when(VisitorType == \"New_Visitor\" ~ 1, .default = 0)),\n",
    "              perc_returning = round(returning / sum(returning + new),digits = 2),\n",
    "              special_day_total = sum(special_day_binary),\n",
    "              perc_on_special_day =   round((special_day_total / total_count),digits=2))\n",
    "\n",
    "df_sum %>% select(1:3,5,7,8:10,12)"
   ]
  },
  {
   "cell_type": "markdown",
   "id": "aec5faa0",
   "metadata": {},
   "source": [
    "Can we spot any correlations between conversion rate and any of the following dimensions?\n",
    "- Operating Systems\n",
    "- Region\n",
    "- Month \n",
    "- Total Pages"
   ]
  },
  {
   "cell_type": "code",
   "execution_count": 17,
   "id": "8b5e32b1",
   "metadata": {
    "vscode": {
     "languageId": "r"
    }
   },
   "outputs": [
    {
     "data": {
      "image/png": "[encoded data removed]",
      "text/plain": [
       "plot without title"
      ]
     },
     "metadata": {
      "image/png": {
       "height": 420,
       "width": 420
      }
     },
     "output_type": "display_data"
    }
   ],
   "source": [
    "df_sum_op <- df %>% group_by(OperatingSystems)  %>%\n",
    " dplyr:: summarize(rev_true = sum(Revenue_binary),\n",
    "            total_count = n(),\n",
    "            conv_rate = round((rev_true / total_count), digits=2))\n",
    "\n",
    "ggplot(df_sum_op, aes(x = total_count, y = conv_rate, color = OperatingSystems, size=total_count, label=OperatingSystems )) +\n",
    "  geom_point() + geom_text(hjust=2,vjust=2) + labs(title =\"Conversion Rate by Operating System\", x =\"Total Sessions\")"
   ]
  },
  {
   "cell_type": "markdown",
   "id": "70988ba8",
   "metadata": {},
   "source": [
    "Operating Systems:\n",
    "\n"
   ]
  },
  {
   "cell_type": "code",
   "execution_count": 21,
   "id": "e80df237",
   "metadata": {
    "vscode": {
     "languageId": "r"
    }
   },
   "outputs": [
    {
     "data": {
      "image/png": "[encoded data removed]",
      "text/plain": [
       "plot without title"
      ]
     },
     "metadata": {
      "image/png": {
       "height": 420,
       "width": 420
      }
     },
     "output_type": "display_data"
    }
   ],
   "source": [
    "df_sum_reg <- df %>% group_by(Region)  %>%\n",
    "  dplyr::summarize(rev_true = sum(Revenue_binary),\n",
    "            total_count = n(),\n",
    "            conv_rate = round((rev_true / total_count), digits=2))\n",
    "\n",
    "ggplot(df_sum_reg, aes(x = total_count, y = conv_rate, color = Region, size=total_count, label=Region )) +\n",
    "  geom_point() + geom_text(hjust=2,vjust=2) + labs(title =\"Conversion Rate by Region\", x =\"Total Sessions\")\n"
   ]
  },
  {
   "cell_type": "markdown",
   "id": "e880ccaa",
   "metadata": {},
   "source": [
    "Region 1 and 3 are the most noteworthy"
   ]
  },
  {
   "cell_type": "code",
   "execution_count": 19,
   "id": "6755d455",
   "metadata": {
    "vscode": {
     "languageId": "r"
    }
   },
   "outputs": [
    {
     "data": {
      "image/png": "[encoded data removed]",
      "text/plain": [
       "plot without title"
      ]
     },
     "metadata": {
      "image/png": {
       "height": 420,
       "width": 420
      }
     },
     "output_type": "display_data"
    }
   ],
   "source": [
    "df_sum_mo <- df %>% group_by(Month)  %>%\n",
    "  dplyr::summarize(rev_true = sum(Revenue_binary),\n",
    "            total_count = n(),\n",
    "            conv_rate = round((rev_true / total_count), digits=2))\n",
    "\n",
    "ggplot(df_sum_mo, aes(x = total_count, y = conv_rate, color = Month, size=total_count, label=Month)) +\n",
    "  geom_point() + geom_text(hjust=2,vjust=2)   + labs(title =\"Conversion Rate by Month\", x =\"Total Sessions\")\n"
   ]
  },
  {
   "cell_type": "markdown",
   "id": "da9ae03f",
   "metadata": {},
   "source": [
    "- Month 11 had the highest conversion rate and the most sessions.\n",
    "- Month 3, 5, and 12 also are noteworthy\n",
    "- Maybe month will be an important feature."
   ]
  },
  {
   "cell_type": "code",
   "execution_count": 22,
   "id": "81a541b4",
   "metadata": {
    "kernel": "R",
    "scrolled": false,
    "tags": [
     "report_cell"
    ],
    "vscode": {
     "languageId": "r"
    }
   },
   "outputs": [
    {
     "name": "stderr",
     "output_type": "stream",
     "text": [
      "Warning message:\n",
      "\"\u001b[1m\u001b[22mRemoved 213 rows containing non-finite values (`stat_smooth()`).\"\n",
      "Warning message:\n",
      "\"\u001b[1m\u001b[22mThe following aesthetics were dropped during statistical transformation: \u001b[32mcolour\u001b[39m\n",
      "\u001b[36mℹ\u001b[39m This can happen when ggplot fails to infer the correct grouping structure in the data.\n",
      "\u001b[36mℹ\u001b[39m Did you forget to specify a `group` aesthetic or to convert a numerical variable into a factor?\"\n",
      "Warning message:\n",
      "\"\u001b[1m\u001b[22mRemoved 213 rows containing missing values (`geom_point()`).\"\n",
      "Warning message:\n",
      "\"\u001b[1m\u001b[22mRemoved 214 rows containing missing values (`geom_point()`).\"\n"
     ]
    },
    {
     "data": {
      "image/png": "[encoded data removed]",
      "text/plain": [
       "plot without title"
      ]
     },
     "metadata": {
      "image/png": {
       "height": 420,
       "width": 420
      }
     },
     "output_type": "display_data"
    }
   ],
   "source": [
    "df_sum_tp <- df %>% group_by(TotalPages)  %>%\n",
    "  dplyr::summarize(rev_true = sum(Revenue_binary),\n",
    "            total_count = n(),\n",
    "            conv_rate = rev_true / total_count)\n",
    "\n",
    "\n",
    "ggplot(df_sum_tp, aes(x = TotalPages, y = conv_rate, color = total_count)) +\n",
    "  geom_point()  +\n",
    "  geom_jitter(width = 5) +\n",
    "  geom_smooth(method = \"loess\", formula = y ~ x) +\n",
    "  labs(title =\"Conversion Rate by TotalPages\", x =\"Total Pages\") +\n",
    "  scale_x_continuous(n.breaks = 10,limits = c(NA,100)) +\n",
    "       scale_y_continuous(n.breaks = 5,limits = c(NA,.5) )"
   ]
  },
  {
   "cell_type": "markdown",
   "id": "dcd4dbab",
   "metadata": {},
   "source": [
    "DATA EXPLORATION: Conversion Rates\n",
    "\n",
    "Trend shows more pages = higher conversion rate\n"
   ]
  },
  {
   "cell_type": "markdown",
   "id": "29fcd56b",
   "metadata": {},
   "source": [
    "# Normalize the data.\n",
    "\n",
    "Note: I ran these models through twice: once with the preprocessed data (centered and scaled) and once without the preprocessing. \n",
    "\n",
    "Centering and scaling didn’t  make a signficant difference in model performance. And in fact, in the glm model, it hurt accuracy. So going forward, we'll use the datasets without the preprocessing."
   ]
  },
  {
   "cell_type": "code",
   "execution_count": 24,
   "id": "178e78ba",
   "metadata": {
    "kernel": "R",
    "scrolled": true,
    "tags": [
     "report_cell"
    ],
    "vscode": {
     "languageId": "r"
    }
   },
   "outputs": [],
   "source": [
    "set.seed(1234)\n",
    "in_train = createDataPartition(y = df_fact$Revenue,\n",
    "p = 0.8, list = FALSE)\n",
    "r_train = df_fact[in_train, ]\n",
    "r_test = df_fact[-in_train, ]\n",
    "training_set = select(r_train, -Revenue)\n",
    "\n",
    "preprocess_steps = preProcess(r_train, method = c(\"center\",\"scale\"))\n",
    "r_train_proc = predict(preprocess_steps, newdata = r_train)\n",
    "r_test_proc = predict(preprocess_steps, newdata = r_test)\n",
    "training_set_proc = select(r_train_proc, -Revenue)"
   ]
  },
  {
   "cell_type": "markdown",
   "id": "855cbec3",
   "metadata": {},
   "source": [
    "# Model selection"
   ]
  },
  {
   "cell_type": "markdown",
   "id": "299f2559",
   "metadata": {},
   "source": [
    "I explored 4 models to determine the best fitting model for our problem statement and dataset:\n",
    "- Logistic Regression\n",
    "- KNN\n",
    "- Ranger\n",
    "- Bagged\n",
    "\n",
    "Let's set up each model, and then explore their feature selection and model accuracy before selecting the best fitting model and recommending next steps."
   ]
  },
  {
   "cell_type": "markdown",
   "id": "0297591a",
   "metadata": {},
   "source": [
    "# Logistic Regression\n",
    "\n",
    "- Non-preprocessed data had much higher accuracy\n",
    "- Using number = 5 because that was the bestTune based off knn results\n",
    "\n",
    "Based off the feature selection of this model, I wondered if it would improve the model fit if we removed some features: \n",
    "1. What if we removed the page-type and focused only on total duration? A product page is where the users convert, so that’s obviously important. And an Administrative page could be a checkout page.\n",
    "2. What if we removed Month and focused only on special day binary? Clearly the time of year matters\n",
    "\n",
    "However, this was the only model that improved with the narrowed list of features, the others performed worse. So I stuck with the original full list of features for the rest of the models."
   ]
  },
  {
   "cell_type": "code",
   "execution_count": 40,
   "id": "c293c9bd",
   "metadata": {
    "kernel": "R",
    "scrolled": true,
    "tags": [
     "report_cell"
    ],
    "vscode": {
     "languageId": "r"
    }
   },
   "outputs": [
    {
     "name": "stderr",
     "output_type": "stream",
     "text": [
      "Warning message in predict.lm(object, newdata, se.fit, scale = 1, type = if (type == :\n",
      "\"prediction from a rank-deficient fit may be misleading\"\n",
      "Warning message in predict.lm(object, newdata, se.fit, scale = 1, type = if (type == :\n",
      "\"prediction from a rank-deficient fit may be misleading\"\n",
      "Warning message in predict.lm(object, newdata, se.fit, scale = 1, type = if (type == :\n",
      "\"prediction from a rank-deficient fit may be misleading\"\n",
      "Warning message in predict.lm(object, newdata, se.fit, scale = 1, type = if (type == :\n",
      "\"prediction from a rank-deficient fit may be misleading\"\n",
      "Warning message in predict.lm(object, newdata, se.fit, scale = 1, type = if (type == :\n",
      "\"prediction from a rank-deficient fit may be misleading\"\n"
     ]
    },
    {
     "data": {
      "text/html": [
       "<table class=\"dataframe\">\n",
       "<caption>A data.frame: 3 × 5</caption>\n",
       "<thead>\n",
       "\t<tr><th></th><th scope=col>k</th><th scope=col>Accuracy</th><th scope=col>Kappa</th><th scope=col>AccuracySD</th><th scope=col>KappaSD</th></tr>\n",
       "\t<tr><th></th><th scope=col>&lt;int&gt;</th><th scope=col>&lt;dbl&gt;</th><th scope=col>&lt;dbl&gt;</th><th scope=col>&lt;dbl&gt;</th><th scope=col>&lt;dbl&gt;</th></tr>\n",
       "</thead>\n",
       "<tbody>\n",
       "\t<tr><th scope=row>1</th><td>5</td><td>0.6351980</td><td>0.1040480</td><td>0.010607045</td><td>0.02090969</td></tr>\n",
       "\t<tr><th scope=row>2</th><td>7</td><td>0.6210081</td><td>0.1031656</td><td>0.009769722</td><td>0.02190022</td></tr>\n",
       "\t<tr><th scope=row>3</th><td>9</td><td>0.6142715</td><td>0.1086098</td><td>0.010011858</td><td>0.02398445</td></tr>\n",
       "</tbody>\n",
       "</table>\n"
      ],
      "text/latex": [
       "A data.frame: 3 × 5\n",
       "\\begin{tabular}{r|lllll}\n",
       "  & k & Accuracy & Kappa & AccuracySD & KappaSD\\\\\n",
       "  & <int> & <dbl> & <dbl> & <dbl> & <dbl>\\\\\n",
       "\\hline\n",
       "\t1 & 5 & 0.6351980 & 0.1040480 & 0.010607045 & 0.02090969\\\\\n",
       "\t2 & 7 & 0.6210081 & 0.1031656 & 0.009769722 & 0.02190022\\\\\n",
       "\t3 & 9 & 0.6142715 & 0.1086098 & 0.010011858 & 0.02398445\\\\\n",
       "\\end{tabular}\n"
      ],
      "text/markdown": [
       "\n",
       "A data.frame: 3 × 5\n",
       "\n",
       "| <!--/--> | k &lt;int&gt; | Accuracy &lt;dbl&gt; | Kappa &lt;dbl&gt; | AccuracySD &lt;dbl&gt; | KappaSD &lt;dbl&gt; |\n",
       "|---|---|---|---|---|---|\n",
       "| 1 | 5 | 0.6351980 | 0.1040480 | 0.010607045 | 0.02090969 |\n",
       "| 2 | 7 | 0.6210081 | 0.1031656 | 0.009769722 | 0.02190022 |\n",
       "| 3 | 9 | 0.6142715 | 0.1086098 | 0.010011858 | 0.02398445 |\n",
       "\n"
      ],
      "text/plain": [
       "  k Accuracy  Kappa     AccuracySD  KappaSD   \n",
       "1 5 0.6351980 0.1040480 0.010607045 0.02090969\n",
       "2 7 0.6210081 0.1031656 0.009769722 0.02190022\n",
       "3 9 0.6142715 0.1086098 0.010011858 0.02398445"
      ]
     },
     "metadata": {},
     "output_type": "display_data"
    },
    {
     "data": {
      "text/html": [
       "<table class=\"dataframe\">\n",
       "<caption>A data.frame: 1 × 1</caption>\n",
       "<thead>\n",
       "\t<tr><th></th><th scope=col>k</th></tr>\n",
       "\t<tr><th></th><th scope=col>&lt;int&gt;</th></tr>\n",
       "</thead>\n",
       "<tbody>\n",
       "\t<tr><th scope=row>1</th><td>5</td></tr>\n",
       "</tbody>\n",
       "</table>\n"
      ],
      "text/latex": [
       "A data.frame: 1 × 1\n",
       "\\begin{tabular}{r|l}\n",
       "  & k\\\\\n",
       "  & <int>\\\\\n",
       "\\hline\n",
       "\t1 & 5\\\\\n",
       "\\end{tabular}\n"
      ],
      "text/markdown": [
       "\n",
       "A data.frame: 1 × 1\n",
       "\n",
       "| <!--/--> | k &lt;int&gt; |\n",
       "|---|---|\n",
       "| 1 | 5 |\n",
       "\n"
      ],
      "text/plain": [
       "  k\n",
       "1 5"
      ]
     },
     "metadata": {},
     "output_type": "display_data"
    },
    {
     "data": {
      "text/plain": [
       "Confusion Matrix and Statistics\n",
       "\n",
       "          Reference\n",
       "Prediction FALSE TRUE\n",
       "     FALSE  1396  180\n",
       "     TRUE    674  198\n",
       "                                        \n",
       "               Accuracy : 0.6511        \n",
       "                 95% CI : (0.6319, 0.67)\n",
       "    No Information Rate : 0.8456        \n",
       "    P-Value [Acc > NIR] : 1             \n",
       "                                        \n",
       "                  Kappa : 0.1292        \n",
       "                                        \n",
       " Mcnemar's Test P-Value : <2e-16        \n",
       "                                        \n",
       "            Sensitivity : 0.6744        \n",
       "            Specificity : 0.5238        \n",
       "         Pos Pred Value : 0.8858        \n",
       "         Neg Pred Value : 0.2271        \n",
       "             Prevalence : 0.8456        \n",
       "         Detection Rate : 0.5703        \n",
       "   Detection Prevalence : 0.6438        \n",
       "      Balanced Accuracy : 0.5991        \n",
       "                                        \n",
       "       'Positive' Class : FALSE         \n",
       "                                        "
      ]
     },
     "metadata": {},
     "output_type": "display_data"
    },
    {
     "data": {
      "text/html": [
       "<table class=\"dataframe\">\n",
       "<caption>A data.frame: 1 × 5</caption>\n",
       "<thead>\n",
       "\t<tr><th></th><th scope=col>parameter</th><th scope=col>Accuracy</th><th scope=col>Kappa</th><th scope=col>AccuracySD</th><th scope=col>KappaSD</th></tr>\n",
       "\t<tr><th></th><th scope=col>&lt;chr&gt;</th><th scope=col>&lt;dbl&gt;</th><th scope=col>&lt;dbl&gt;</th><th scope=col>&lt;dbl&gt;</th><th scope=col>&lt;dbl&gt;</th></tr>\n",
       "</thead>\n",
       "<tbody>\n",
       "\t<tr><th scope=row>1</th><td>none</td><td>0.6418302</td><td>0.1734925</td><td>0.009280452</td><td>0.006349424</td></tr>\n",
       "</tbody>\n",
       "</table>\n"
      ],
      "text/latex": [
       "A data.frame: 1 × 5\n",
       "\\begin{tabular}{r|lllll}\n",
       "  & parameter & Accuracy & Kappa & AccuracySD & KappaSD\\\\\n",
       "  & <chr> & <dbl> & <dbl> & <dbl> & <dbl>\\\\\n",
       "\\hline\n",
       "\t1 & none & 0.6418302 & 0.1734925 & 0.009280452 & 0.006349424\\\\\n",
       "\\end{tabular}\n"
      ],
      "text/markdown": [
       "\n",
       "A data.frame: 1 × 5\n",
       "\n",
       "| <!--/--> | parameter &lt;chr&gt; | Accuracy &lt;dbl&gt; | Kappa &lt;dbl&gt; | AccuracySD &lt;dbl&gt; | KappaSD &lt;dbl&gt; |\n",
       "|---|---|---|---|---|---|\n",
       "| 1 | none | 0.6418302 | 0.1734925 | 0.009280452 | 0.006349424 |\n",
       "\n"
      ],
      "text/plain": [
       "  parameter Accuracy  Kappa     AccuracySD  KappaSD    \n",
       "1 none      0.6418302 0.1734925 0.009280452 0.006349424"
      ]
     },
     "metadata": {},
     "output_type": "display_data"
    },
    {
     "data": {
      "text/plain": [
       "\n",
       "Call:  NULL\n",
       "\n",
       "Coefficients:\n",
       "                 (Intercept)                Administrative  \n",
       "                  -3.656e+00                    -5.777e-03  \n",
       "     Administrative_Duration                 Informational  \n",
       "                  -1.177e-04                    -5.347e-02  \n",
       "      Informational_Duration                ProductRelated  \n",
       "                   1.833e-04                    -2.059e-03  \n",
       "     ProductRelated_Duration                        Month3  \n",
       "                   1.731e-04                     8.339e-01  \n",
       "                      Month5                        Month6  \n",
       "                   1.155e+00                     9.742e-01  \n",
       "                      Month7                        Month8  \n",
       "                   1.244e+00                     1.326e+00  \n",
       "                      Month9                       Month10  \n",
       "                   1.549e+00                     1.546e+00  \n",
       "                     Month11                       Month12  \n",
       "                   2.022e+00                     9.906e-01  \n",
       "           OperatingSystems2             OperatingSystems3  \n",
       "                   4.468e-01                    -1.107e-01  \n",
       "           OperatingSystems4             OperatingSystems5  \n",
       "                   4.070e-01                    -1.114e+01  \n",
       "           OperatingSystems6             OperatingSystems7  \n",
       "                   3.339e-01                    -3.587e-01  \n",
       "           OperatingSystems8                      Browser2  \n",
       "                  -4.238e-01                    -1.978e-01  \n",
       "                    Browser3                      Browser4  \n",
       "                  -1.002e+00                    -8.883e-03  \n",
       "                    Browser5                      Browser6  \n",
       "                  -2.202e-01                    -4.226e-01  \n",
       "                    Browser7                      Browser8  \n",
       "                  -1.232e+00                     6.346e-01  \n",
       "                    Browser9                     Browser10  \n",
       "                  -1.070e+01                    -2.679e-02  \n",
       "                   Browser11                     Browser12  \n",
       "                          NA                     1.319e+00  \n",
       "                   Browser13                       Region2  \n",
       "                   1.816e+00                     2.068e-01  \n",
       "                     Region3                       Region4  \n",
       "                  -3.072e-02                     2.887e-02  \n",
       "                     Region5                       Region6  \n",
       "                   2.204e-01                     6.166e-02  \n",
       "                     Region7                       Region8  \n",
       "                  -6.519e-02                    -1.680e-01  \n",
       "                     Region9              VisitorTypeOther  \n",
       "                  -1.837e-01                            NA  \n",
       "VisitorTypeReturning_Visitor                      Weekend1  \n",
       "                  -9.382e-01                     1.771e-01  \n",
       "               TotalDuration                    TotalPages  \n",
       "                          NA                            NA  \n",
       "       ProductRelated_binary         Administrative_binary  \n",
       "                   1.749e+00                     7.626e-01  \n",
       "        Informational_binary           special_day_binary1  \n",
       "                   3.491e-01                     5.540e-01  \n",
       "\n",
       "Degrees of Freedom: 16565 Total (i.e. Null);  16518 Residual\n",
       "Null Deviance:\t    22970 \n",
       "Residual Deviance: 19960 \tAIC: 20050"
      ]
     },
     "metadata": {},
     "output_type": "display_data"
    },
    {
     "data": {
      "text/plain": [
       "\n",
       "Call:\n",
       "NULL\n",
       "\n",
       "Deviance Residuals: \n",
       "    Min       1Q   Median       3Q      Max  \n",
       "-3.1984  -1.0237   0.0913   1.0321   2.2022  \n",
       "\n",
       "Coefficients: (4 not defined because of singularities)\n",
       "                               Estimate Std. Error z value Pr(>|z|)    \n",
       "(Intercept)                  -3.656e+00  3.200e-01 -11.423  < 2e-16 ***\n",
       "Administrative               -5.777e-03  8.428e-03  -0.685 0.493063    \n",
       "Administrative_Duration      -1.177e-04  1.271e-04  -0.927 0.354172    \n",
       "Informational                -5.347e-02  2.521e-02  -2.121 0.033935 *  \n",
       "Informational_Duration        1.833e-04  1.630e-04   1.125 0.260792    \n",
       "ProductRelated               -2.059e-03  8.973e-04  -2.295 0.021745 *  \n",
       "ProductRelated_Duration       1.731e-04  2.234e-05   7.750 9.22e-15 ***\n",
       "Month3                        8.339e-01  2.805e-01   2.974 0.002944 ** \n",
       "Month5                        1.155e+00  2.768e-01   4.170 3.04e-05 ***\n",
       "Month6                        9.742e-01  3.031e-01   3.214 0.001309 ** \n",
       "Month7                        1.244e+00  2.936e-01   4.238 2.26e-05 ***\n",
       "Month8                        1.326e+00  2.927e-01   4.530 5.90e-06 ***\n",
       "Month9                        1.549e+00  2.902e-01   5.337 9.47e-08 ***\n",
       "Month10                       1.546e+00  2.877e-01   5.374 7.70e-08 ***\n",
       "Month11                       2.022e+00  2.785e-01   7.263 3.79e-13 ***\n",
       "Month12                       9.906e-01  2.811e-01   3.524 0.000425 ***\n",
       "OperatingSystems2             4.468e-01  1.021e-01   4.378 1.20e-05 ***\n",
       "OperatingSystems3            -1.107e-01  1.081e-01  -1.024 0.305701    \n",
       "OperatingSystems4             4.070e-01  1.034e-01   3.937 8.25e-05 ***\n",
       "OperatingSystems5            -1.114e+01  1.108e+02  -0.101 0.919920    \n",
       "OperatingSystems6             3.339e-01  4.671e-01   0.715 0.474614    \n",
       "OperatingSystems7            -3.587e-01  7.712e-01  -0.465 0.641855    \n",
       "OperatingSystems8            -4.238e-01  5.114e-01  -0.829 0.407285    \n",
       "Browser2                     -1.978e-01  1.013e-01  -1.953 0.050801 .  \n",
       "Browser3                     -1.002e+00  2.788e-01  -3.593 0.000327 ***\n",
       "Browser4                     -8.883e-03  1.275e-01  -0.070 0.944453    \n",
       "Browser5                     -2.202e-01  1.366e-01  -1.611 0.107155    \n",
       "Browser6                     -4.226e-01  1.944e-01  -2.174 0.029728 *  \n",
       "Browser7                     -1.232e+00  3.681e-01  -3.347 0.000817 ***\n",
       "Browser8                      6.346e-01  1.762e-01   3.601 0.000317 ***\n",
       "Browser9                     -1.070e+01  1.970e+02  -0.054 0.956671    \n",
       "Browser10                    -2.679e-02  1.878e-01  -0.143 0.886584    \n",
       "Browser11                            NA         NA      NA       NA    \n",
       "Browser12                     1.319e+00  5.354e-01   2.464 0.013743 *  \n",
       "Browser13                     1.816e+00  8.280e-01   2.194 0.028250 *  \n",
       "Region2                       2.068e-01  6.673e-02   3.099 0.001944 ** \n",
       "Region3                      -3.072e-02  5.172e-02  -0.594 0.552509    \n",
       "Region4                       2.887e-02  6.603e-02   0.437 0.661992    \n",
       "Region5                       2.204e-01  1.133e-01   1.946 0.051657 .  \n",
       "Region6                       6.166e-02  7.781e-02   0.793 0.428063    \n",
       "Region7                      -6.519e-02  7.997e-02  -0.815 0.414937    \n",
       "Region8                      -1.680e-01  1.080e-01  -1.556 0.119773    \n",
       "Region9                      -1.837e-01  1.023e-01  -1.795 0.072639 .  \n",
       "VisitorTypeOther                     NA         NA      NA       NA    \n",
       "VisitorTypeReturning_Visitor -9.382e-01  5.124e-02 -18.312  < 2e-16 ***\n",
       "Weekend1                      1.771e-01  4.332e-02   4.089 4.34e-05 ***\n",
       "TotalDuration                        NA         NA      NA       NA    \n",
       "TotalPages                           NA         NA      NA       NA    \n",
       "ProductRelated_binary         1.749e+00  1.498e-01  11.674  < 2e-16 ***\n",
       "Administrative_binary         7.626e-01  4.804e-02  15.876  < 2e-16 ***\n",
       "Informational_binary          3.491e-01  7.019e-02   4.973 6.58e-07 ***\n",
       "special_day_binary1           5.540e-01  8.233e-02   6.729 1.71e-11 ***\n",
       "---\n",
       "Signif. codes:  0 '***' 0.001 '**' 0.01 '*' 0.05 '.' 0.1 ' ' 1\n",
       "\n",
       "(Dispersion parameter for binomial family taken to be 1)\n",
       "\n",
       "    Null deviance: 22965  on 16565  degrees of freedom\n",
       "Residual deviance: 19957  on 16518  degrees of freedom\n",
       "AIC: 20053\n",
       "\n",
       "Number of Fisher Scoring iterations: 10\n"
      ]
     },
     "metadata": {},
     "output_type": "display_data"
    },
    {
     "name": "stderr",
     "output_type": "stream",
     "text": [
      "Warning message in predict.lm(object, newdata, se.fit, scale = 1, type = if (type == :\n",
      "\"prediction from a rank-deficient fit may be misleading\"\n"
     ]
    },
    {
     "data": {
      "text/plain": [
       "Confusion Matrix and Statistics\n",
       "\n",
       "          Reference\n",
       "Prediction FALSE TRUE\n",
       "     FALSE  1323  131\n",
       "     TRUE    747  247\n",
       "                                         \n",
       "               Accuracy : 0.6413         \n",
       "                 95% CI : (0.622, 0.6604)\n",
       "    No Information Rate : 0.8456         \n",
       "    P-Value [Acc > NIR] : 1              \n",
       "                                         \n",
       "                  Kappa : 0.1756         \n",
       "                                         \n",
       " Mcnemar's Test P-Value : <2e-16         \n",
       "                                         \n",
       "            Sensitivity : 0.6391         \n",
       "            Specificity : 0.6534         \n",
       "         Pos Pred Value : 0.9099         \n",
       "         Neg Pred Value : 0.2485         \n",
       "             Prevalence : 0.8456         \n",
       "         Detection Rate : 0.5404         \n",
       "   Detection Prevalence : 0.5940         \n",
       "      Balanced Accuracy : 0.6463         \n",
       "                                         \n",
       "       'Positive' Class : FALSE          \n",
       "                                         "
      ]
     },
     "metadata": {},
     "output_type": "display_data"
    },
    {
     "data": {
      "image/png": "[encoded data removed]",
      "text/plain": [
       "plot without title"
      ]
     },
     "metadata": {
      "image/png": {
       "height": 420,
       "width": 420
      }
     },
     "output_type": "display_data"
    },
    {
     "data": {
      "image/png": "[encoded data removed]",
      "text/plain": [
       "plot without title"
      ]
     },
     "metadata": {
      "image/png": {
       "height": 420,
       "width": 420
      }
     },
     "output_type": "display_data"
    }
   ],
   "source": [
    "set.seed(1234)\n",
    "lr_model = train(Revenue ~ ., \n",
    "                 family = \"binomial\",\n",
    "                 data = r_train,\n",
    "                 method = \"glm\", \n",
    "                 trControl = trainControl(method = \"cv\",\n",
    "                                          number = 5,\n",
    "                                          sampling = \"smote\"\n",
    "                 ),\n",
    "                 na.action = na.omit)\n",
    "#k nearest neighbors\n",
    "set.seed(1234)\n",
    "default_knn_mod = train(\n",
    "  Revenue ~ .,\n",
    "  data = r_train,\n",
    "  method = \"knn\",\n",
    "  trControl = trainControl(method = \"cv\",number = 5, sampling = \"smote\")\n",
    ")\n",
    "#5\n",
    "plot(default_knn_mod)\n",
    "default_knn_mod$results\n",
    "default_knn_mod$bestTune\n",
    "predictions_knn = predict(default_knn_mod, newdata = r_test)\n",
    "confusionMatrix(predictions_knn, r_test$Revenue)\n",
    "\n",
    "lr_model$results\n",
    "lr_model$finalModel\n",
    "summary(lr_model)\n",
    "predictions = predict(lr_model, newdata = r_test)\n",
    "confusionMatrix(predictions, r_test$Revenue)\n",
    "plot(varImp(lr_model))\n"
   ]
  },
  {
   "cell_type": "markdown",
   "id": "5b14529e",
   "metadata": {},
   "source": [
    "# Bagged Decision Trees\n",
    "\n",
    "- Decision Trees didn’t work (no nodes) so I used bagged aggregation\n",
    "- Accuracy & Sensitivity are decent but Specificity is far too low\n",
    "- Using number = 5 to match the resamples count for comparison later\n"
   ]
  },
  {
   "cell_type": "code",
   "execution_count": 41,
   "id": "d9b80c29",
   "metadata": {
    "vscode": {
     "languageId": "r"
    }
   },
   "outputs": [
    {
     "data": {
      "text/plain": [
       "Confusion Matrix and Statistics\n",
       "\n",
       "          Reference\n",
       "Prediction FALSE TRUE\n",
       "     FALSE  1991  324\n",
       "     TRUE     79   54\n",
       "                                          \n",
       "               Accuracy : 0.8354          \n",
       "                 95% CI : (0.8201, 0.8499)\n",
       "    No Information Rate : 0.8456          \n",
       "    P-Value [Acc > NIR] : 0.9222          \n",
       "                                          \n",
       "                  Kappa : 0.1424          \n",
       "                                          \n",
       " Mcnemar's Test P-Value : <2e-16          \n",
       "                                          \n",
       "            Sensitivity : 0.9618          \n",
       "            Specificity : 0.1429          \n",
       "         Pos Pred Value : 0.8600          \n",
       "         Neg Pred Value : 0.4060          \n",
       "             Prevalence : 0.8456          \n",
       "         Detection Rate : 0.8133          \n",
       "   Detection Prevalence : 0.9457          \n",
       "      Balanced Accuracy : 0.5523          \n",
       "                                          \n",
       "       'Positive' Class : FALSE           \n",
       "                                          "
      ]
     },
     "metadata": {},
     "output_type": "display_data"
    },
    {
     "data": {
      "image/png": "[encoded data removed]",
      "text/plain": [
       "plot without title"
      ]
     },
     "metadata": {
      "image/png": {
       "height": 420,
       "width": 420
      }
     },
     "output_type": "display_data"
    }
   ],
   "source": [
    "set.seed(1234)\n",
    "bagged_model = train(y=r_train$Revenue, \n",
    "                           trControl = trainControl(method = \"cv\",\n",
    "                                                    number = 5),\n",
    "                          x = training_set, method = \"treebag\")\n",
    "\n",
    "bagged_predictions = predict(bagged_model, r_test)\n",
    "confusionMatrix(bagged_predictions, r_test$Revenue)\n",
    "plot(varImp(bagged_model))\n",
    "\n",
    "\n",
    "#specificity is really really bad. Not usable"
   ]
  },
  {
   "cell_type": "markdown",
   "id": "cb938df4",
   "metadata": {},
   "source": [
    "# Random Forest using Ranger\n",
    "- Random forest performance was very slow, so I used ranger\n",
    "- Accuracy & Sensitivity & Specificity are decent \n",
    "- Using number = 5 to match the resamples count for comparison later\n"
   ]
  },
  {
   "cell_type": "code",
   "execution_count": 42,
   "id": "7fdf4309",
   "metadata": {
    "vscode": {
     "languageId": "r"
    }
   },
   "outputs": [
    {
     "data": {
      "text/plain": [
       "Random Forest \n",
       "\n",
       "9797 samples\n",
       "  18 predictor\n",
       "   2 classes: 'FALSE', 'TRUE' \n",
       "\n",
       "No pre-processing\n",
       "Resampling: Cross-Validated (5 fold) \n",
       "Summary of sample sizes: 7837, 7838, 7837, 7837, 7839 \n",
       "Resampling results:\n",
       "\n",
       "  Accuracy   Kappa     \n",
       "  0.8453614  0.06300724\n",
       "\n",
       "Tuning parameter 'mtry' was held constant at a value of 5\n",
       "Tuning\n",
       " parameter 'splitrule' was held constant at a value of extratrees\n",
       "\n",
       "Tuning parameter 'min.node.size' was held constant at a value of 2"
      ]
     },
     "metadata": {},
     "output_type": "display_data"
    },
    {
     "data": {
      "text/plain": [
       "Confusion Matrix and Statistics\n",
       "\n",
       "          Reference\n",
       "Prediction FALSE TRUE\n",
       "     FALSE  2044  356\n",
       "     TRUE     26   22\n",
       "                                         \n",
       "               Accuracy : 0.844          \n",
       "                 95% CI : (0.829, 0.8581)\n",
       "    No Information Rate : 0.8456         \n",
       "    P-Value [Acc > NIR] : 0.6017         \n",
       "                                         \n",
       "                  Kappa : 0.071          \n",
       "                                         \n",
       " Mcnemar's Test P-Value : <2e-16         \n",
       "                                         \n",
       "            Sensitivity : 0.9874         \n",
       "            Specificity : 0.0582         \n",
       "         Pos Pred Value : 0.8517         \n",
       "         Neg Pred Value : 0.4583         \n",
       "             Prevalence : 0.8456         \n",
       "         Detection Rate : 0.8350         \n",
       "   Detection Prevalence : 0.9804         \n",
       "      Balanced Accuracy : 0.5228         \n",
       "                                         \n",
       "       'Positive' Class : FALSE          \n",
       "                                         "
      ]
     },
     "metadata": {},
     "output_type": "display_data"
    }
   ],
   "source": [
    "library(ranger)\n",
    "set.seed(1234)\n",
    "features <- setdiff(names(r_train), \"Revenue\")\n",
    "x <- r_train[, features]\n",
    "y <- r_train$Revenue\n",
    "# set up 5-fold cross validation procedure\n",
    "train_control <- trainControl(method = \"cv\",\n",
    "                              number = 5,\n",
    "#                              verboseIter = TRUE,\n",
    "                              savePredictions = \"final\")\n",
    "#ran it once without tuneGrid and these were the best params \n",
    "rf_grid <- expand.grid(mtry = c(5),\n",
    "                       splitrule = c(\"extratrees\"),\n",
    "                       min.node.size = c(2))\n",
    "rf.model <- train(\n",
    "                  x = x,\n",
    "                  y = y,\n",
    "                  method = \"ranger\",\n",
    "                  trControl = train_control,\n",
    "                  tuneGrid = rf_grid,\n",
    "                  )\n",
    "rf.model\n",
    "rf_predictions = predict(rf.model, r_test)\n",
    "confusionMatrix(rf_predictions, r_test$Revenue)\n"
   ]
  },
  {
   "cell_type": "markdown",
   "id": "6b61aea6",
   "metadata": {},
   "source": [
    "# Compare models"
   ]
  },
  {
   "cell_type": "code",
   "execution_count": 31,
   "id": "535f634b",
   "metadata": {
    "kernel": "R",
    "scrolled": true,
    "tags": [
     "report_cell"
    ],
    "vscode": {
     "languageId": "r"
    }
   },
   "outputs": [
    {
     "data": {
      "text/plain": [
       "Confusion Matrix and Statistics\n",
       "\n",
       "          Reference\n",
       "Prediction FALSE TRUE\n",
       "     FALSE  1323  131\n",
       "     TRUE    747  247\n",
       "                                         \n",
       "               Accuracy : 0.6413         \n",
       "                 95% CI : (0.622, 0.6604)\n",
       "    No Information Rate : 0.8456         \n",
       "    P-Value [Acc > NIR] : 1              \n",
       "                                         \n",
       "                  Kappa : 0.1756         \n",
       "                                         \n",
       " Mcnemar's Test P-Value : <2e-16         \n",
       "                                         \n",
       "            Sensitivity : 0.6391         \n",
       "            Specificity : 0.6534         \n",
       "         Pos Pred Value : 0.9099         \n",
       "         Neg Pred Value : 0.2485         \n",
       "             Prevalence : 0.8456         \n",
       "         Detection Rate : 0.5404         \n",
       "   Detection Prevalence : 0.5940         \n",
       "      Balanced Accuracy : 0.6463         \n",
       "                                         \n",
       "       'Positive' Class : FALSE          \n",
       "                                         "
      ]
     },
     "metadata": {},
     "output_type": "display_data"
    },
    {
     "data": {
      "text/plain": [
       "Confusion Matrix and Statistics\n",
       "\n",
       "          Reference\n",
       "Prediction FALSE TRUE\n",
       "     FALSE  1396  180\n",
       "     TRUE    674  198\n",
       "                                        \n",
       "               Accuracy : 0.6511        \n",
       "                 95% CI : (0.6319, 0.67)\n",
       "    No Information Rate : 0.8456        \n",
       "    P-Value [Acc > NIR] : 1             \n",
       "                                        \n",
       "                  Kappa : 0.1292        \n",
       "                                        \n",
       " Mcnemar's Test P-Value : <2e-16        \n",
       "                                        \n",
       "            Sensitivity : 0.6744        \n",
       "            Specificity : 0.5238        \n",
       "         Pos Pred Value : 0.8858        \n",
       "         Neg Pred Value : 0.2271        \n",
       "             Prevalence : 0.8456        \n",
       "         Detection Rate : 0.5703        \n",
       "   Detection Prevalence : 0.6438        \n",
       "      Balanced Accuracy : 0.5991        \n",
       "                                        \n",
       "       'Positive' Class : FALSE         \n",
       "                                        "
      ]
     },
     "metadata": {},
     "output_type": "display_data"
    },
    {
     "data": {
      "text/plain": [
       "Confusion Matrix and Statistics\n",
       "\n",
       "          Reference\n",
       "Prediction FALSE TRUE\n",
       "     FALSE  1991  324\n",
       "     TRUE     79   54\n",
       "                                          \n",
       "               Accuracy : 0.8354          \n",
       "                 95% CI : (0.8201, 0.8499)\n",
       "    No Information Rate : 0.8456          \n",
       "    P-Value [Acc > NIR] : 0.9222          \n",
       "                                          \n",
       "                  Kappa : 0.1424          \n",
       "                                          \n",
       " Mcnemar's Test P-Value : <2e-16          \n",
       "                                          \n",
       "            Sensitivity : 0.9618          \n",
       "            Specificity : 0.1429          \n",
       "         Pos Pred Value : 0.8600          \n",
       "         Neg Pred Value : 0.4060          \n",
       "             Prevalence : 0.8456          \n",
       "         Detection Rate : 0.8133          \n",
       "   Detection Prevalence : 0.9457          \n",
       "      Balanced Accuracy : 0.5523          \n",
       "                                          \n",
       "       'Positive' Class : FALSE           \n",
       "                                          "
      ]
     },
     "metadata": {},
     "output_type": "display_data"
    },
    {
     "data": {
      "text/plain": [
       "Confusion Matrix and Statistics\n",
       "\n",
       "          Reference\n",
       "Prediction FALSE TRUE\n",
       "     FALSE  2044  356\n",
       "     TRUE     26   22\n",
       "                                         \n",
       "               Accuracy : 0.844          \n",
       "                 95% CI : (0.829, 0.8581)\n",
       "    No Information Rate : 0.8456         \n",
       "    P-Value [Acc > NIR] : 0.6017         \n",
       "                                         \n",
       "                  Kappa : 0.071          \n",
       "                                         \n",
       " Mcnemar's Test P-Value : <2e-16         \n",
       "                                         \n",
       "            Sensitivity : 0.9874         \n",
       "            Specificity : 0.0582         \n",
       "         Pos Pred Value : 0.8517         \n",
       "         Neg Pred Value : 0.4583         \n",
       "             Prevalence : 0.8456         \n",
       "         Detection Rate : 0.8350         \n",
       "   Detection Prevalence : 0.9804         \n",
       "      Balanced Accuracy : 0.5228         \n",
       "                                         \n",
       "       'Positive' Class : FALSE          \n",
       "                                         "
      ]
     },
     "metadata": {},
     "output_type": "display_data"
    },
    {
     "data": {
      "text/plain": [
       "\n",
       "Call:\n",
       "summary.resamples(object = results)\n",
       "\n",
       "Models: knn, rf.model, lr_model, bagged_model \n",
       "Number of resamples: 5 \n",
       "\n",
       "Accuracy \n",
       "                  Min.   1st Qu.    Median      Mean   3rd Qu.      Max. NA's\n",
       "knn          0.6250000 0.6260204 0.6321429 0.6351980 0.6457376 0.6470889    0\n",
       "rf.model     0.8433673 0.8433673 0.8453292 0.8453614 0.8464286 0.8483146    0\n",
       "lr_model     0.6260204 0.6430031 0.6438776 0.6418302 0.6459184 0.6503318    0\n",
       "bagged_model 0.8319714 0.8352041 0.8357143 0.8357657 0.8362245 0.8397141    0\n",
       "\n",
       "Kappa \n",
       "                   Min.    1st Qu.     Median       Mean    3rd Qu.       Max.\n",
       "knn          0.08419389 0.09110869 0.09606587 0.10404801 0.11234846 0.13652317\n",
       "rf.model     0.04349817 0.05166273 0.06621166 0.06300724 0.07192544 0.08173822\n",
       "lr_model     0.16623141 0.17084928 0.17262904 0.17349252 0.17424869 0.18350416\n",
       "bagged_model 0.11849837 0.12521012 0.12867548 0.12917009 0.13298879 0.14047771\n",
       "             NA's\n",
       "knn             0\n",
       "rf.model        0\n",
       "lr_model        0\n",
       "bagged_model    0\n"
      ]
     },
     "metadata": {},
     "output_type": "display_data"
    },
    {
     "data": {
      "image/png": "[encoded data removed]",
      "text/plain": [
       "plot without title"
      ]
     },
     "metadata": {
      "image/png": {
       "height": 420,
       "width": 420
      }
     },
     "output_type": "display_data"
    }
   ],
   "source": [
    "confusionMatrix(predictions, r_test$Revenue)\n",
    "confusionMatrix(predictions_knn, r_test$Revenue)\n",
    "confusionMatrix(bagged_predictions, r_test$Revenue)\n",
    "confusionMatrix(rf_predictions, r_test$Revenue)\n",
    "\n",
    "results = resamples(list(knn = default_knn_mod, rf.model= rf.model,lr_model = lr_model, bagged_model=bagged_model))\n",
    "summary(results)\n",
    "dotplot(results)"
   ]
  },
  {
   "cell_type": "markdown",
   "id": "f58cbbd5",
   "metadata": {},
   "source": [
    "# Final Model Selection: Logistic Regression\n",
    "\n",
    "- Decent Accuracy and Specificity\n",
    "- Could tune it more to improve accuracy\n",
    "\n",
    "Let's look at the features of this model\n"
   ]
  },
  {
   "cell_type": "code",
   "execution_count": 43,
   "id": "509be212",
   "metadata": {
    "vscode": {
     "languageId": "r"
    }
   },
   "outputs": [
    {
     "data": {
      "image/png": "[encoded data removed]",
      "text/plain": [
       "plot without title"
      ]
     },
     "metadata": {
      "image/png": {
       "height": 420,
       "width": 420
      }
     },
     "output_type": "display_data"
    }
   ],
   "source": [
    "plot(varImp(lr_model))"
   ]
  },
  {
   "cell_type": "markdown",
   "id": "01383e2d",
   "metadata": {},
   "source": [
    "# Recommendations\n",
    "\n",
    "Original Hypothesis: Users who spend more time on the site & visit key pages have a higher tendency to convert\n",
    "\n",
    "#### Attract Return Visitors\n",
    "- Returning Visitors are more likely to convert, keep targeting them.\n",
    "\n",
    "#### Campaign Timing\n",
    "- Special Days and Weekends lead to more conversions, so continue to focus on those initiatives\n"
   ]
  },
  {
   "cell_type": "markdown",
   "id": "d32ee5fa",
   "metadata": {},
   "source": [
    "# Challenges\n",
    "\n",
    "The models could have been tuned more finely to increase accuracy\n",
    "\n",
    "Would have wanted to run correlation tests to understand the strength of correlation between returning visitors and conversions. Is it truly the most important feature or is it because there are more total returning users than new?\n",
    "\n",
    "It would have been helpful to have more data on other variables like acquisition campaigns (where are the users coming from before they land on the site?)\n",
    "\n",
    "Random Forest and XGBoost Models were slow, so I didn’t get a chance to evaluate those\n"
   ]
  }
 ],
 "metadata": {
  "kernelspec": {
   "display_name": "R",
   "language": "R",
   "name": "ir"
  },
  "language_info": {
   "codemirror_mode": "r",
   "file_extension": ".r",
   "mimetype": "text/x-r-source",
   "name": "R",
   "pygments_lexer": "r",
   "version": "4.2.3"
  }
 },
 "nbformat": 4,
 "nbformat_minor": 5
}
